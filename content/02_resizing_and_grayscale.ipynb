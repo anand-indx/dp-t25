{
 "cells": [
  {
   "cell_type": "markdown",
   "id": "d42edaed",
   "metadata": {},
   "source": [
    "## Image Resizing and Grayscale Conversion\n",
    "\n",
    "This notebook demonstrates how to resize images and convert them to grayscale, fundamental preprocessing steps in many computer vision pipelines.\n",
    "\n",
    "**Our Goals:**\n",
    "1.  Load an image tile.\n",
    "2.  Resize the image to different dimensions.\n",
    "3.  Convert the image to grayscale.\n",
    "4.  Visualize the results."
   ]
  },
  {
   "cell_type": "code",
   "execution_count": null,
   "id": "2348dcc2",
   "metadata": {},
   "outputs": [],
   "source": [
    "# Shared data setup: one-time downloads reused by all notebooks\n",
    "import sys, os\n",
    "from pathlib import Path\n",
    "\n",
    "# Locate shared utils\n",
    "root = Path.cwd()\n",
    "shared = root / 'shared'\n",
    "if not shared.exists():\n",
    "    alt = root.parent / 'shared'\n",
    "    if alt.exists():\n",
    "        shared = alt\n",
    "if str(shared) not in sys.path:\n",
    "    sys.path.insert(0, str(shared))\n",
    "\n",
    "from utils import (\n",
    "    get_notebook_config,\n",
    "    ensure_image_processing_samples,\n",
    "    ensure_tiles_from_env_or_zenodo,\n",
    "    ensure_demo_wsi,\n",
    ")\n",
    "\n",
    "CFG = get_notebook_config()\n",
    "DATA_DIR = Path(CFG['data_dir'])\n",
    "RESULTS_DIR = Path(CFG['results_dir'])\n",
    "DATA_DIR.mkdir(parents=True, exist_ok=True)\n",
    "RESULTS_DIR.mkdir(parents=True, exist_ok=True)\n",
    "print(f\"DATA_DIR = {DATA_DIR}\")\n",
    "\n",
    "# Optional: pull tiles via env configs once (ZENODO_RECORD/ZENODO_FILTER or TILES_ZIP_URL)\n",
    "ensure_tiles_from_env_or_zenodo(DATA_DIR)\n",
    "\n",
    "# Ensure a demo WSI once (WSI_PATH/WSI_URL or OpenSlide demo)\n",
    "WSI_PATH = ensure_demo_wsi(DATA_DIR)\n",
    "print(f\"WSI_PATH = {WSI_PATH}\")\n",
    "\n",
    "# Always ensure small sample images for this notebook\n",
    "ensure_image_processing_samples(DATA_DIR)"
   ]
  },
  {
   "cell_type": "code",
   "execution_count": null,
   "id": "84dece08",
   "metadata": {},
   "outputs": [],
   "source": [
    "# Bootstrap shared utils and resolve DATA_DIR\n",
    "import sys, os\n",
    "from pathlib import Path\n",
    "try:\n",
    "    from shared import utils as u\n",
    "except ImportError:\n",
    "    repo_url = \"https://github.com/anand-indx/dp-t25.git\"; dest = \"/content/dp-t25\"\n",
    "    if 'google.colab' in sys.modules and not os.path.exists(dest):\n",
    "        import subprocess\n",
    "        subprocess.run(['git', 'clone', '--depth', '1', repo_url, dest], check=False)\n",
    "        sys.path.insert(0, dest)\n",
    "    else:\n",
    "        sys.path.insert(0, str(Path.cwd().parents[1]))\n",
    "    from shared import utils as u\n",
    "\n",
    "from PIL import Image\n",
    "import matplotlib.pyplot as plt\n",
    "import numpy as np\n",
    "\n",
    "DATA_DIR = u.get_data_dir()\n",
    "# Ensure shared samples exist and pick one\n",
    "u.ensure_image_processing_samples(DATA_DIR)\n",
    "\n",
    "tile_path = DATA_DIR / 'sample_patch_1.jpg'\n",
    "original_image = Image.open(tile_path)\n",
    "\n",
    "plt.imshow(original_image)\n",
    "plt.title('Original Tile')\n",
    "plt.show()"
   ]
  },
  {
   "cell_type": "markdown",
   "id": "9d120f6f",
   "metadata": {},
   "source": [
    "### 1. Resizing an Image\n",
    "\n",
    "We can use Pillow's `resize()` method. It takes a tuple of the new width and height."
   ]
  },
  {
   "cell_type": "code",
   "execution_count": null,
   "id": "aea13e48",
   "metadata": {},
   "outputs": [],
   "source": [
    "resized_image = original_image.resize((64, 64))\n",
    "\n",
    "plt.imshow(resized_image)\n",
    "plt.title('Resized Tile (64x64)')\n",
    "plt.show()\n",
    "\n",
    "print(f\"Original size: {original_image.size}\")\n",
    "print(f\"Resized size: {resized_image.size}\")"
   ]
  },
  {
   "cell_type": "markdown",
   "id": "e41ccadb",
   "metadata": {},
   "source": [
    "### 2. Grayscale Conversion\n",
    "\n",
    "The `convert()` method with the 'L' mode will convert an RGB image to grayscale."
   ]
  },
  {
   "cell_type": "code",
   "execution_count": null,
   "id": "161dccc1",
   "metadata": {},
   "outputs": [],
   "source": [
    "grayscale_image = original_image.convert('L')\n",
    "\n",
    "plt.imshow(grayscale_image, cmap='gray')\n",
    "plt.title('Grayscale Tile')\n",
    "plt.show()\n",
    "\n",
    "# Verify the mode has changed\n",
    "print(f\"Original image mode: {original_image.mode}\")\n",
    "print(f\"Grayscale image mode: {grayscale_image.mode}\")"
   ]
  },
  {
   "cell_type": "markdown",
   "id": "3f35318a",
   "metadata": {},
   "source": [
    "## ✅ Final Check\n",
    "\n",
    "Let's verify the resized image has the correct dimensions and the grayscale image has the correct mode."
   ]
  },
  {
   "cell_type": "code",
   "execution_count": null,
   "id": "99b04e5e",
   "metadata": {},
   "outputs": [],
   "source": [
    "assert resized_image.size == (64, 64), \"Resized image has incorrect dimensions.\"\n",
    "assert grayscale_image.mode == 'L', \"Image was not converted to grayscale.\"\n",
    "\n",
    "print(\"SUCCESS: All checks passed.\")"
   ]
  }
 ],
 "metadata": {
  "language_info": {
   "name": "python"
  }
 },
 "nbformat": 4,
 "nbformat_minor": 5
}
