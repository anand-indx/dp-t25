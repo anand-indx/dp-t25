{
 "cells": [
  {
   "cell_type": "markdown",
   "id": "bd374255",
   "metadata": {},
   "source": [
    "## Basic Image Augmentation\n",
    "\n",
    "Data augmentation is a technique to increase the diversity of your training set by applying random transformations to your images. This helps prevent overfitting.\n",
    "\n",
    "**Our Goals:**\n",
    "1.  Apply random horizontal flips.\n",
    "2.  Apply random rotations.\n",
    "3.  Combine multiple augmentations."
   ]
  },
  {
   "cell_type": "code",
   "execution_count": null,
   "id": "9cbd8d9e",
   "metadata": {},
   "outputs": [],
   "source": [
    "# Bootstrap shared utils and resolve DATA_DIR\n",
    "import sys, os\n",
    "from pathlib import Path\n",
    "try:\n",
    "    from shared import utils as u\n",
    "except ImportError:\n",
    "    repo_url = \"https://github.com/anand-indx/dp-t25.git\"; dest = \"/content/dp-t25\"\n",
    "    if 'google.colab' in sys.modules and not os.path.exists(dest):\n",
    "        import subprocess\n",
    "        subprocess.run(['git', 'clone', '--depth', '1', repo_url, dest], check=False)\n",
    "        sys.path.insert(0, dest)\n",
    "    else:\n",
    "        sys.path.insert(0, str(Path.cwd().parents[1]))\n",
    "    from shared import utils as u\n",
    "\n",
    "from PIL import Image\n",
    "import matplotlib.pyplot as plt\n",
    "import random\n",
    "\n",
    "DATA_DIR = u.get_data_dir()\n",
    "u.ensure_image_processing_samples(DATA_DIR)\n",
    "\n",
    "tile_path = DATA_DIR / 'sample_patch_1.jpg'\n",
    "original_image = Image.open(tile_path)"
   ]
  },
  {
   "cell_type": "markdown",
   "id": "2d5bc14b",
   "metadata": {},
   "source": [
    "### 1. Horizontal Flip\n",
    "\n",
    "A horizontal flip is a common and effective augmentation."
   ]
  },
  {
   "cell_type": "code",
   "execution_count": null,
   "id": "3a1373bb",
   "metadata": {},
   "outputs": [],
   "source": [
    "flipped_image = original_image.transpose(Image.FLIP_LEFT_RIGHT)\n",
    "\n",
    "fig, axes = plt.subplots(1, 2, figsize=(8, 4))\n",
    "axes[0].imshow(original_image)\n",
    "axes[0].set_title('Original')\n",
    "axes[1].imshow(flipped_image)\n",
    "axes[1].set_title('Flipped')\n",
    "plt.show()"
   ]
  },
  {
   "cell_type": "markdown",
   "id": "02aa78ec",
   "metadata": {},
   "source": [
    "### 2. Rotation\n",
    "\n",
    "We can also rotate the image by a random angle."
   ]
  },
  {
   "cell_type": "code",
   "execution_count": null,
   "id": "b2222a28",
   "metadata": {},
   "outputs": [],
   "source": [
    "rotated_image = original_image.rotate(45)\n",
    "\n",
    "fig, axes = plt.subplots(1, 2, figsize=(8, 4))\n",
    "axes[0].imshow(original_image)\n",
    "axes[0].set_title('Original')\n",
    "axes[1].imshow(rotated_image)\n",
    "axes[1].set_title('Rotated 45 degrees')\n",
    "plt.show()"
   ]
  },
  {
   "cell_type": "markdown",
   "id": "2c7d9af3",
   "metadata": {},
   "source": [
    "## ✅ Final Check\n",
    "\n",
    "Let's create a simple augmentation function and test it."
   ]
  },
  {
   "cell_type": "code",
   "execution_count": null,
   "id": "3e6a3d30",
   "metadata": {},
   "outputs": [],
   "source": [
    "def augment_image(image):\n",
    "    \"\"\"Applies a random flip and rotation.\"\"\"\n",
    "    if random.random() > 0.5:\n",
    "        image = image.transpose(Image.FLIP_LEFT_RIGHT)\n",
    "    \n",
    "    angle = random.choice([0, 90, 180, 270])\n",
    "    image = image.rotate(angle)\n",
    "    return image\n",
    "\n",
    "augmented_image = augment_image(original_image)\n",
    "\n",
    "# This check is visual, as the output is random.\n",
    "# In a real test, you might check that the output image\n",
    "# has the same size as the input.\n",
    "assert original_image.size == augmented_image.size\n",
    "\n",
    "print(\"SUCCESS: Augmentation function created and tested.\")\n",
    "plt.imshow(augmented_image)\n",
    "plt.title('Randomly Augmented')\n",
    "plt.show()"
   ]
  }
 ],
 "metadata": {
  "language_info": {
   "name": "python"
  }
 },
 "nbformat": 4,
 "nbformat_minor": 5
}
