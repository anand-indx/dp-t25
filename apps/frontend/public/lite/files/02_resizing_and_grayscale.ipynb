{
 "cells": [
  {
   "cell_type": "markdown",
   "id": "d42edaed",
   "metadata": {},
   "source": [
    "## Image Resizing and Grayscale Conversion\n",
    "\n",
    "This notebook demonstrates how to resize images and convert them to grayscale, fundamental preprocessing steps in many computer vision pipelines.\n",
    "\n",
    "**Our Goals:**\n",
    "1.  Load an image tile.\n",
    "2.  Resize the image to different dimensions.\n",
    "3.  Convert the image to grayscale.\n",
    "4.  Visualize the results."
   ]
  },
  {
   "cell_type": "code",
   "execution_count": null,
   "id": "84dece08",
   "metadata": {},
   "outputs": [],
   "source": [
    "from PIL import Image\n",
    "import matplotlib.pyplot as plt\n",
    "import numpy as np\n",
    "import os\n",
    "\n",
    "# Let's assume we have a tile from the previous notebook\n",
    "# For simplicity, we'll create a dummy tile here.\n",
    "# In a real scenario, you would load a saved tile or extract a new one.\n",
    "if not os.path.exists('../data/sample_tile.png'):\n",
    "    dummy_image = Image.new('RGB', (256, 256), color = 'red')\n",
    "    dummy_image.save('../data/sample_tile.png')\n",
    "\n",
    "tile_path = '../data/sample_tile.png'\n",
    "original_image = Image.open(tile_path)\n",
    "\n",
    "plt.imshow(original_image)\n",
    "plt.title('Original Tile')\n",
    "plt.show()"
   ]
  },
  {
   "cell_type": "markdown",
   "id": "9d120f6f",
   "metadata": {},
   "source": [
    "### 1. Resizing an Image\n",
    "\n",
    "We can use Pillow's `resize()` method. It takes a tuple of the new width and height."
   ]
  },
  {
   "cell_type": "code",
   "execution_count": null,
   "id": "aea13e48",
   "metadata": {},
   "outputs": [],
   "source": [
    "resized_image = original_image.resize((64, 64))\n",
    "\n",
    "plt.imshow(resized_image)\n",
    "plt.title('Resized Tile (64x64)')\n",
    "plt.show()\n",
    "\n",
    "print(f\"Original size: {original_image.size}\")\n",
    "print(f\"Resized size: {resized_image.size}\")"
   ]
  },
  {
   "cell_type": "markdown",
   "id": "e41ccadb",
   "metadata": {},
   "source": [
    "### 2. Grayscale Conversion\n",
    "\n",
    "The `convert()` method with the 'L' mode will convert an RGB image to grayscale."
   ]
  },
  {
   "cell_type": "code",
   "execution_count": null,
   "id": "161dccc1",
   "metadata": {},
   "outputs": [],
   "source": [
    "grayscale_image = original_image.convert('L')\n",
    "\n",
    "plt.imshow(grayscale_image, cmap='gray')\n",
    "plt.title('Grayscale Tile')\n",
    "plt.show()\n",
    "\n",
    "# Verify the mode has changed\n",
    "print(f\"Original image mode: {original_image.mode}\")\n",
    "print(f\"Grayscale image mode: {grayscale_image.mode}\")"
   ]
  },
  {
   "cell_type": "markdown",
   "id": "3f35318a",
   "metadata": {},
   "source": [
    "## ✅ Final Check\n",
    "\n",
    "Let's verify the resized image has the correct dimensions and the grayscale image has the correct mode."
   ]
  },
  {
   "cell_type": "code",
   "execution_count": null,
   "id": "99b04e5e",
   "metadata": {},
   "outputs": [],
   "source": [
    "assert resized_image.size == (64, 64), \"Resized image has incorrect dimensions.\"\n",
    "assert grayscale_image.mode == 'L', \"Image was not converted to grayscale.\"\n",
    "\n",
    "print(\"SUCCESS: All checks passed.\")"
   ]
  }
 ],
 "metadata": {
  "language_info": {
   "name": "python"
  }
 },
 "nbformat": 4,
 "nbformat_minor": 5
}
