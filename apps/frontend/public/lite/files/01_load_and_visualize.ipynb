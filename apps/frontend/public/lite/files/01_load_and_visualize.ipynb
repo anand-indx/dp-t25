{
 "cells": [
  {
   "cell_type": "markdown",
   "id": "46365320",
   "metadata": {},
   "source": [
    "## Getting Started: Loading and Viewing a Digital Slide\n",
    "\n",
    "This notebook covers the essential first step in any computational pathology project: accessing and displaying a whole-slide image (WSI).\n",
    "\n",
    "**Our Goals:**\n",
    "1.  Set up the environment by installing and importing key libraries.\n",
    "2.  Use the `openslide-python` library to open a WSI file.\n",
    "3.  Examine the slide's metadata, such as its different magnification levels.\n",
    "4.  Extract a small tile (a patch) from the slide.\n",
    "5.  Display the extracted tile using `matplotlib`."
   ]
  },
  {
   "cell_type": "markdown",
   "id": "c696fc17",
   "metadata": {},
   "source": [
    "### 1. Environment Setup\n",
    "\n",
    "First, we need to install the necessary Python packages. We'll use `openslide-python` for handling WSI files, `Pillow` for image objects, and `matplotlib` for plotting.\n",
    "\n",
    "Execute this command in your terminal to install them:\n",
    "```bash\n",
    "pip install openslide-python Pillow matplotlib\n",
    "```\n",
    "After installation, we can import them into our notebook."
   ]
  },
  {
   "cell_type": "code",
   "execution_count": null,
   "id": "7575dd5f",
   "metadata": {},
   "outputs": [],
   "source": [
    "import openslide\n",
    "from PIL import Image\n",
    "import matplotlib.pyplot as plt\n",
    "import numpy as np\n",
    "import os\n",
    "\n",
    "# --- Configuration ---\n",
    "# The downloaded sample WSI file\n",
    "wsi_filepath = '../data/CMU-1.svs'\n",
    "\n",
    "print(\"Libraries imported and file path configured.\")"
   ]
  },
  {
   "cell_type": "markdown",
   "id": "52673c2c",
   "metadata": {},
   "source": [
    "### 2. Opening the WSI File\n",
    "\n",
    "Let's use OpenSlide to create a slide object. This is memory-efficient as it doesn't load the entire gigapixel image at once. We'll include a check to ensure the file exists before trying to open it."
   ]
  },
  {
   "cell_type": "code",
   "execution_count": null,
   "id": "20294b25",
   "metadata": {},
   "outputs": [],
   "source": [
    "slide_handle = None\n",
    "if not os.path.exists(wsi_filepath):\n",
    "    print(f\"ERROR: File not found at {wsi_filepath}\")\n",
    "    print(\"Please ensure you have downloaded the data and the path is correct.\")\n",
    "else:\n",
    "    try:\n",
    "        slide_handle = openslide.OpenSlide(wsi_filepath)\n",
    "        print(f\"Successfully opened: {os.path.basename(wsi_filepath)}\")\n",
    "    except openslide.OpenSlideError as e:\n",
    "        print(f\"Failed to open slide. Details: {e}\")"
   ]
  },
  {
   "cell_type": "markdown",
   "id": "e6a1f186",
   "metadata": {},
   "source": [
    "### 3. Exploring Slide Properties\n",
    "\n",
    "WSIs are stored as image pyramids with multiple layers, each at a different resolution. Level 0 is the highest-resolution layer. Let's see what levels are available in our file."
   ]
  },
  {
   "cell_type": "code",
   "execution_count": null,
   "id": "e84ac07d",
   "metadata": {},
   "outputs": [],
   "source": [
    "if slide_handle:\n",
    "    print(f\"Total levels: {slide_handle.level_count}\")\n",
    "    for level_index, dims in enumerate(slide_handle.level_dimensions):\n",
    "        downsample_factor = slide_handle.level_downsamples[level_index]\n",
    "        print(f\"- Level {level_index}: Dimensions={dims}, Downsample={downsample_factor:.2f}x\")"
   ]
  },
  {
   "cell_type": "markdown",
   "id": "df29929a",
   "metadata": {},
   "source": [
    "### 4. Extracting a Region of Interest\n",
    "\n",
    "We can't work with the whole slide at once. Instead, we extract smaller tiles. The `read_region` method allows us to specify a location `(x, y)` in the level 0 coordinate system, the `level` to read from, and the desired `size` of the tile."
   ]
  },
  {
   "cell_type": "code",
   "execution_count": null,
   "id": "64a7a3c5",
   "metadata": {},
   "outputs": [],
   "source": [
    "# The top-left coordinate for our tile (from Level 0)\n",
    "read_location = (50000, 35000)\n",
    "\n",
    "# The pyramid level to read from\n",
    "level_to_read = 0\n",
    "\n",
    "# The desired tile size (width, height)\n",
    "tile_dimensions = (256, 256)\n",
    "\n",
    "tile_image = None\n",
    "if slide_handle:\n",
    "    tile_image = slide_handle.read_region(read_location, level_to_read, tile_dimensions)\n",
    "    print(f\"Extracted a {tile_image.size} tile from level {level_to_read}.\")"
   ]
  },
  {
   "cell_type": "markdown",
   "id": "b4fcacf2",
   "metadata": {},
   "source": [
    "### 5. Visualizing the Extracted Tile\n",
    "\n",
    "`read_region` gives us a standard `Pillow` Image object, which we can easily plot."
   ]
  },
  {
   "cell_type": "code",
   "execution_count": null,
   "id": "6f4b512f",
   "metadata": {},
   "outputs": [],
   "source": [
    "if tile_image:\n",
    "    # The output from read_region is RGBA, let's convert to RGB for cleaner display\n",
    "    rgb_tile = tile_image.convert('RGB')\n",
    "    \n",
    "    plt.figure(figsize=(6, 6))\n",
    "    plt.imshow(rgb_tile)\n",
    "    plt.title(f\"Tile from Level {level_to_read} at {read_location}\")\n",
    "    plt.xlabel('X-axis (pixels)')\n",
    "    plt.ylabel('Y-axis (pixels)')\n",
    "    plt.grid(False)\n",
    "    plt.show()"
   ]
  },
  {
   "cell_type": "markdown",
   "id": "36c57624",
   "metadata": {},
   "source": [
    "## ✅ Final Check\n",
    "\n",
    "To complete this task, we need to verify that our extracted tile has the correct dimensions. The cell below converts the `Pillow` image to a `NumPy` array and asserts its shape."
   ]
  },
  {
   "cell_type": "code",
   "execution_count": null,
   "id": "f808d756",
   "metadata": {},
   "outputs": [],
   "source": [
    "if 'rgb_tile' in locals() and rgb_tile is not None:\n",
    "    image_as_array = np.array(rgb_tile)\n",
    "    \n",
    "    # The shape should be (height, width, channels)\n",
    "    expected_shape = (256, 256, 3)\n",
    "    assert image_as_array.shape == expected_shape, f\"Shape mismatch! Expected {expected_shape}, but got {image_as_array.shape}\"\n",
    "    \n",
    "    print(\"SUCCESS: The extracted image tile has the correct shape.\")\n",
    "    print(f\"Shape: {image_as_array.shape}\")\n",
    "else:\n",
    "    print(\"Skipping test: The image tile was not loaded correctly in previous steps.\")"
   ]
  }
 ],
 "metadata": {
  "language_info": {
   "name": "python"
  }
 },
 "nbformat": 4,
 "nbformat_minor": 5
}
