{
 "cells": [
  {
   "cell_type": "markdown",
   "id": "fdddb591",
   "metadata": {},
   "source": [
    "# Basic Augmentation\n",
    "Template notebook."
   ]
  },
  {
   "cell_type": "code",
   "execution_count": null,
   "id": "522a5de3",
   "metadata": {},
   "outputs": [],
   "source": [
    "print('Augmentation template loaded')"
   ]
  }
 ],
 "metadata": {
  "language_info": {
   "name": "python"
  }
 },
 "nbformat": 4,
 "nbformat_minor": 5
}
