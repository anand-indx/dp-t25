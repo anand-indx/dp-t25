{
 "cells": [
  {
   "cell_type": "markdown",
   "id": "f188d65f",
   "metadata": {},
   "source": [
    "# Resizing and Grayscale Conversion\n",
    "Starter template. Add your exercises here."
   ]
  },
  {
   "cell_type": "code",
   "execution_count": null,
   "id": "663e7721",
   "metadata": {},
   "outputs": [],
   "source": [
    "from PIL import Image\n",
    "print('Pillow OK')"
   ]
  }
 ],
 "metadata": {
  "language_info": {
   "name": "python"
  }
 },
 "nbformat": 4,
 "nbformat_minor": 5
}
