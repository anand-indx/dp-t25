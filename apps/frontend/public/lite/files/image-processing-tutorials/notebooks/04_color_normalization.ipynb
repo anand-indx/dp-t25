{
 "cells": [
  {
   "cell_type": "markdown",
   "id": "4bc25607",
   "metadata": {},
   "source": [
    "# Color Normalization\n",
    "Use this as a starting point."
   ]
  },
  {
   "cell_type": "code",
   "execution_count": null,
   "id": "84753ff9",
   "metadata": {},
   "outputs": [],
   "source": [
    "print('Ready')"
   ]
  }
 ],
 "metadata": {
  "language_info": {
   "name": "python"
  }
 },
 "nbformat": 4,
 "nbformat_minor": 5
}
