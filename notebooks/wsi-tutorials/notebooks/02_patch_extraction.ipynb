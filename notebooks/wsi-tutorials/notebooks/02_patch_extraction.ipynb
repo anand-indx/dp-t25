{
 "cells": [
  {
   "cell_type": "markdown",
   "id": "38cb8ec9",
   "metadata": {},
   "source": [
    "# Patch Extraction from WSI\n",
    "\n",
    "Extract and save a grid of patches at level 0 (highest resolution)."
   ]
  },
  {
   "cell_type": "code",
   "execution_count": null,
   "id": "6ae88a2a",
   "metadata": {},
   "outputs": [],
   "source": [
    "# Bootstrap shared utils and ensure a demo WSI if needed\n",
    "import sys\n",
    "from pathlib import Path\n",
    "root = Path.cwd()\n",
    "shared = root / 'shared'\n",
    "if not shared.exists():\n",
    "    alt = root.parent / 'shared'\n",
    "    if alt.exists():\n",
    "        shared = alt\n",
    "if str(shared) not in sys.path:\n",
    "    sys.path.insert(0, str(shared))\n",
    "from utils import get_notebook_config, ensure_demo_wsi\n",
    "CFG = get_notebook_config()\n",
    "DATA_DIR = Path(CFG['data_dir'])\n",
    "RESULTS_DIR = Path(CFG['results_dir'])\n",
    "DATA_DIR.mkdir(parents=True, exist_ok=True)\n",
    "RESULTS_DIR.mkdir(parents=True, exist_ok=True)\n",
    "WSI_PATH = ensure_demo_wsi(DATA_DIR)\n",
    "print(f\"WSI_PATH = {WSI_PATH}\")"
   ]
  },
  {
   "cell_type": "code",
   "execution_count": null,
   "id": "8d2209ed",
   "metadata": {},
   "outputs": [],
   "source": [
    "import sys, os\n",
    "from pathlib import Path\n",
    "try:\n",
    "    from shared import utils as u\n",
    "except ImportError:\n",
    "    repo_url = \"https://github.com/anand-indx/dp-t25.git\"; dest = \"/content/dp-t25\"\n",
    "    if 'google.colab' in sys.modules and not os.path.exists(dest):\n",
    "        import subprocess\n",
    "        subprocess.run(['git', 'clone', '--depth', '1', repo_url, dest], check=False)\n",
    "        sys.path.insert(0, dest)\n",
    "    else:\n",
    "        sys.path.insert(0, str(Path.cwd().parents[1]))\n",
    "    from shared import utils as u\n",
    "\n",
    "from openslide import OpenSlide, OpenSlideError\n",
    "from pathlib import Path\n",
    "\n",
    "DATA_DIR = u.get_data_dir()\n",
    "WSI_PATH = u.get_wsi_path(DATA_DIR)\n",
    "PATCH_DIR = DATA_DIR / 'patches'\n",
    "PATCH_DIR.mkdir(parents=True, exist_ok=True)\n",
    "\n",
    "tile_size, stride = 256, 256\n",
    "\n",
    "try:\n",
    "    slide = OpenSlide(str(WSI_PATH))\n",
    "except OpenSlideError as e:\n",
    "    raise RuntimeError(f\"Cannot open WSI at {WSI_PATH}. Upload a file there or set WSI_PATH.\")\n",
    "\n",
    "for y in range(0, slide.dimensions[1]-tile_size+1, stride):\n",
    "    for x in range(0, slide.dimensions[0]-tile_size+1, stride):\n",
    "        img = slide.read_region((x, y), 0, (tile_size, tile_size)).convert('RGB')\n",
    "        img.save(PATCH_DIR / f'{x}_{y}.png')\n",
    "slide.close(); print(f'Done. Saved patches to {PATCH_DIR}')"
   ]
  }
 ],
 "metadata": {
  "language_info": {
   "name": "python"
  }
 },
 "nbformat": 4,
 "nbformat_minor": 5
}
