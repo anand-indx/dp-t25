{
 "cells": [
  {
   "cell_type": "markdown",
   "id": "8de882b8",
   "metadata": {},
   "source": [
    "# Heatmap Overlay from Patch Predictions\n",
    "\n",
    "Aggregate patch-level scores to a slide-level heatmap and overlay on the thumbnail."
   ]
  },
  {
   "cell_type": "code",
   "execution_count": null,
   "id": "c86067eb",
   "metadata": {},
   "outputs": [],
   "source": [
    "import sys, os\n",
    "from pathlib import Path\n",
    "try:\n",
    "    from shared import utils as u\n",
    "except ImportError:\n",
    "    repo_url = \"https://github.com/anand-indx/dp-t25.git\"; dest = \"/content/dp-t25\"\n",
    "    if 'google.colab' in sys.modules and not os.path.exists(dest):\n",
    "        import subprocess\n",
    "        subprocess.run(['git', 'clone', '--depth', '1', repo_url, dest], check=False)\n",
    "        sys.path.insert(0, dest)\n",
    "    else:\n",
    "        sys.path.insert(0, str(Path.cwd().parents[1]))\n",
    "    from shared import utils as u\n",
    "\n",
    "import numpy as np, matplotlib.pyplot as plt\n",
    "from PIL import Image\n",
    "from openslide import OpenSlide, OpenSlideError\n",
    "\n",
    "DATA_DIR = u.get_data_dir()\n",
    "WSI_PATH = u.get_wsi_path(DATA_DIR)\n",
    "\n",
    "# Try to use real thumbnail if WSI exists; fallback to synthetic\n",
    "thumb = None\n",
    "try:\n",
    "    slide = OpenSlide(str(WSI_PATH))\n",
    "    thumb = slide.get_thumbnail((1024, 1024)).convert('RGB')\n",
    "except Exception:\n",
    "    thumb = Image.new('RGB', (1024, 1024), 'white')\n",
    "\n",
    "# Load scores from patches if present, else synthetic\n",
    "patch_dir = DATA_DIR / 'patches'\n",
    "if patch_dir.exists():\n",
    "    tiles = list(patch_dir.glob('*.png'))\n",
    "    if len(tiles) > 0:\n",
    "        grid_size = (32, 32)\n",
    "        scores = np.zeros(grid_size, dtype=float)\n",
    "        for i, t in enumerate(tiles[: grid_size[0]*grid_size[1]]):\n",
    "            r = i // grid_size[1]\n",
    "            c = i % grid_size[1]\n",
    "            scores[r, c] = 1.0\n",
    "    else:\n",
    "        scores = np.random.rand(32, 32)\n",
    "else:\n",
    "    scores = np.random.rand(32, 32)\n",
    "\n",
    "plt.figure(figsize=(6,6))\n",
    "plt.imshow(thumb)\n",
    "plt.imshow(scores, cmap='jet', alpha=0.4, extent=[0,1024,1024,0])\n",
    "plt.axis('off')\n",
    "plt.show()"
   ]
  }
 ],
 "metadata": {
  "language_info": {
   "name": "python"
  }
 },
 "nbformat": 4,
 "nbformat_minor": 5
}
