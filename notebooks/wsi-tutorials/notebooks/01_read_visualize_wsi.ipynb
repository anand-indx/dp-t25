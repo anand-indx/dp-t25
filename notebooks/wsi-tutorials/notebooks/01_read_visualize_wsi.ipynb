{
 "cells": [
  {
   "cell_type": "markdown",
   "id": "e381bf1b",
   "metadata": {},
   "source": [
    "# Read and Visualize a WSI\n",
    "\n",
    "Open a whole-slide image (WSI) with OpenSlide and render a thumbnail."
   ]
  },
  {
   "cell_type": "code",
   "execution_count": null,
   "id": "72e724a2",
   "metadata": {},
   "outputs": [],
   "source": [
    "import sys, os\n",
    "from pathlib import Path\n",
    "try:\n",
    "    from shared import utils as u\n",
    "except ImportError:\n",
    "    repo_url = \"https://github.com/anand-indx/dp-t25.git\"; dest = \"/content/dp-t25\"\n",
    "    if 'google.colab' in sys.modules and not os.path.exists(dest):\n",
    "        import subprocess\n",
    "        subprocess.run(['git', 'clone', '--depth', '1', repo_url, dest], check=False)\n",
    "        sys.path.insert(0, dest)\n",
    "    else:\n",
    "        sys.path.insert(0, str(Path.cwd().parents[1]))\n",
    "    from shared import utils as u\n",
    "\n",
    "from openslide import OpenSlide, OpenSlideError\n",
    "from PIL import Image\n",
    "from pathlib import Path\n",
    "\n",
    "DATA_DIR = u.get_data_dir()\n",
    "WSI_PATH = u.get_wsi_path(DATA_DIR)\n",
    "print(f\"📁 Data directory: {DATA_DIR}\")\n",
    "print(f\"🖼️ WSI path: {WSI_PATH}\")\n",
    "\n",
    "slide = None\n",
    "try:\n",
    "    slide = OpenSlide(str(WSI_PATH))\n",
    "    thumb = slide.get_thumbnail((1024, 1024))\n",
    "    display(thumb)\n",
    "except OpenSlideError as e:\n",
    "    print(f\"⚠️ Could not open WSI: {e}\")\n",
    "    print(\"Upload a WSI to the path above or set WSI_PATH env var to proceed.\")"
   ]
  }
 ],
 "metadata": {
  "language_info": {
   "name": "python"
  }
 },
 "nbformat": 4,
 "nbformat_minor": 5
}
