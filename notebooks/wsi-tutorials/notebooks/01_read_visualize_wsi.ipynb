{
 "cells": [
  {
   "cell_type": "markdown",
   "id": "e381bf1b",
   "metadata": {},
   "source": [
    "# Read and Visualize a WSI\n",
    "\n",
    "Open a whole-slide image (WSI) with OpenSlide and render a thumbnail."
   ]
  },
  {
   "cell_type": "code",
   "execution_count": null,
   "id": "88ab39d0",
   "metadata": {},
   "outputs": [],
   "source": [
    "# Bootstrap shared utils and ensure a demo WSI if needed\n",
    "import sys\n",
    "from pathlib import Path\n",
    "\n",
    "# Add shared utils to path\n",
    "root = Path.cwd()\n",
    "shared = root / 'shared'\n",
    "if not shared.exists():\n",
    "    alt = root.parent / 'shared'\n",
    "    if alt.exists():\n",
    "        shared = alt\n",
    "if str(shared) not in sys.path:\n",
    "    sys.path.insert(0, str(shared))\n",
    "\n",
    "from utils import get_notebook_config, ensure_demo_wsi\n",
    "CFG = get_notebook_config()\n",
    "DATA_DIR = Path(CFG['data_dir'])\n",
    "RESULTS_DIR = Path(CFG['results_dir'])\n",
    "DATA_DIR.mkdir(parents=True, exist_ok=True)\n",
    "RESULTS_DIR.mkdir(parents=True, exist_ok=True)\n",
    "\n",
    "WSI_PATH = ensure_demo_wsi(DATA_DIR)\n",
    "print(f\"WSI_PATH = {WSI_PATH}\")"
   ]
  },
  {
   "cell_type": "code",
   "execution_count": null,
   "id": "72e724a2",
   "metadata": {},
   "outputs": [],
   "source": [
    "import sys, os\n",
    "from pathlib import Path\n",
    "try:\n",
    "    from shared import utils as u\n",
    "except ImportError:\n",
    "    repo_url = \"https://github.com/anand-indx/dp-t25.git\"; dest = \"/content/dp-t25\"\n",
    "    if 'google.colab' in sys.modules and not os.path.exists(dest):\n",
    "        import subprocess\n",
    "        subprocess.run(['git', 'clone', '--depth', '1', repo_url, dest], check=False)\n",
    "        sys.path.insert(0, dest)\n",
    "    else:\n",
    "        sys.path.insert(0, str(Path.cwd().parents[1]))\n",
    "    from shared import utils as u\n",
    "\n",
    "from openslide import OpenSlide, OpenSlideError\n",
    "from PIL import Image\n",
    "from pathlib import Path\n",
    "\n",
    "DATA_DIR = u.get_data_dir()\n",
    "WSI_PATH = u.get_wsi_path(DATA_DIR)\n",
    "print(f\"📁 Data directory: {DATA_DIR}\")\n",
    "print(f\"🖼️ WSI path: {WSI_PATH}\")\n",
    "\n",
    "slide = None\n",
    "try:\n",
    "    slide = OpenSlide(str(WSI_PATH))\n",
    "    thumb = slide.get_thumbnail((1024, 1024))\n",
    "    display(thumb)\n",
    "except OpenSlideError as e:\n",
    "    print(f\"⚠️ Could not open WSI: {e}\")\n",
    "    print(\"Upload a WSI to the path above or set WSI_PATH env var to proceed.\")"
   ]
  }
 ],
 "metadata": {
  "language_info": {
   "name": "python"
  }
 },
 "nbformat": 4,
 "nbformat_minor": 5
}
