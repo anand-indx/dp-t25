{
 "cells": [
  {
   "cell_type": "markdown",
   "id": "4d017080",
   "metadata": {},
   "source": [
    "# Multiple Instance Learning (MIL) for Slide Classification\n",
    "\n",
    "End-to-end example using pre-extracted patch features and an attention-based MIL head to predict slide labels."
   ]
  },
  {
   "cell_type": "code",
   "execution_count": null,
   "id": "29beb195",
   "metadata": {},
   "outputs": [],
   "source": [
    "import torch, torch.nn as nn, torch.optim as optim\n",
    "import numpy as np\n",
    "# Synthetic bag features and labels\n",
    "bags = [torch.randn(128, 512) for _ in range(64)]\n",
    "labels = torch.randint(0,2,(64,))\n",
    "class AttnMIL(nn.Module):\n",
    "    def __init__(self, d=512, k=128):\n",
    "        super().__init__()\n",
    "        self.attn = nn.Sequential(nn.Linear(d,k), nn.Tanh(), nn.Linear(k,1))\n",
    "        self.clf = nn.Linear(d,2)\n",
    "    def forward(self, x):\n",
    "        a = self.attn(x)\n",
    "        w = torch.softmax(a, dim=0)\n",
    "        z = (w * x).sum(dim=0)\n",
    "        return self.clf(z)\n",
    "model = AttnMIL()\n",
    "opt = optim.Adam(model.parameters(), lr=1e-3)\n",
    "loss_fn = nn.CrossEntropyLoss()\n",
    "for epoch in range(5):\n",
    "    tot=0\n",
    "    for x, y in zip(bags, labels):\n",
    "        opt.zero_grad(); logits = model(x); loss = loss_fn(logits.unsqueeze(0), y.unsqueeze(0)); loss.backward(); opt.step(); tot+=loss.item()\n",
    "    print('epoch', epoch, 'loss', round(tot/len(bags),4))"
   ]
  }
 ],
 "metadata": {
  "language_info": {
   "name": "python"
  }
 },
 "nbformat": 4,
 "nbformat_minor": 5
}
