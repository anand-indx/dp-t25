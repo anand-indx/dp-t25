{
 "cells": [
  {
   "cell_type": "markdown",
   "id": "c59f0b71",
   "metadata": {},
   "source": [
    "# Explainability with Grad-CAM\n",
    "\n",
    "Visualize class-discriminative regions on histology patches using Grad-CAM for a CNN backbone."
   ]
  },
  {
   "cell_type": "code",
   "execution_count": null,
   "id": "282804b2",
   "metadata": {},
   "outputs": [],
   "source": [
    "# Minimal Grad-CAM on a timm model\n",
    "import importlib\n",
    "if importlib.util.find_spec('timm') is None:\n",
    "    get_ipython().system('pip -q install timm')\n",
    "import torch, timm, torchvision.transforms as T\n",
    "from PIL import Image\n",
    "import io, requests, numpy as np\n",
    "model = timm.create_model('resnet50', pretrained=True)\n",
    "model.eval()\n",
    "target_layer = model.layer4[-1].conv3\n",
    "preprocess = T.Compose([T.Resize(256), T.CenterCrop(224), T.ToTensor(), T.Normalize([0.485,0.456,0.406],[0.229,0.224,0.225])])\n",
    "def load_img():\n",
    "    url = 'https://picsum.photos/seed/histo3/256'\n",
    "    try:\n",
    "        return Image.open(io.BytesIO(requests.get(url, timeout=5).content)).convert('RGB')\n",
    "    except Exception:\n",
    "        return Image.fromarray((np.random.rand(256,256,3)*255).astype('uint8'), 'RGB')\n",
    "img = load_img()\n",
    "x = preprocess(img).unsqueeze(0)\n",
    "# Forward hook to get activations and gradients\n",
    "acts = {}; grads = {}\n",
    "def fwd_hook(m, i, o): acts['value'] = o.detach()\n",
    "def bwd_hook(m, gi, go): grads['value'] = go[0].detach()\n",
    "h1 = target_layer.register_forward_hook(fwd_hook)\n",
    "h2 = target_layer.register_full_backward_hook(bwd_hook)\n",
    "logits = model(x)\n",
    "cls = logits.argmax(dim=1)\n",
    "model.zero_grad(); logits[0, cls].backward()\n",
    "w = grads['value'].mean(dim=(2,3), keepdim=True)\n",
    "cam = (w * acts['value']).sum(dim=1).squeeze().numpy()\n",
    "cam = (cam - cam.min()) / (cam.max() - cam.min() + 1e-6)\n",
    "print('CAM shape:', cam.shape)\n",
    "h1.remove(); h2.remove()"
   ]
  }
 ],
 "metadata": {
  "language_info": {
   "name": "python"
  }
 },
 "nbformat": 4,
 "nbformat_minor": 5
}
