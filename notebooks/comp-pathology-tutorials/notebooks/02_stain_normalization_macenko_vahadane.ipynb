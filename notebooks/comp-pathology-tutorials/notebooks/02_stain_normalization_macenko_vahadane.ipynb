{
 "cells": [
  {
   "cell_type": "markdown",
   "id": "ef60cb0d",
   "metadata": {},
   "source": [
    "# Stain Normalization: Macenko and Vahadane\n",
    "\n",
    "Normalize H&E staining across slides to reduce color variability."
   ]
  },
  {
   "cell_type": "code",
   "execution_count": null,
   "id": "71acb698",
   "metadata": {},
   "outputs": [],
   "source": [
    "# Optional: install staintools for Macenko/Vahadane\n",
    "import importlib\n",
    "if importlib.util.find_spec('staintools') is None:\n",
    "    get_ipython().system('pip -q install staintools')\n",
    "import staintools, numpy as np\n",
    "from PIL import Image\n",
    "# Load source and target images (replace with your own patches)\n",
    "src = Image.open(staintools.miscellaneous.get_sample_image_path())\n",
    "tgt = Image.open(staintools.miscellaneous.get_sample_image_path())\n",
    "normalizer = staintools.StainNormalizer(method='macenko')\n",
    "normalizer.fit(np.array(tgt))\n",
    "norm = normalizer.transform(np.array(src))\n",
    "Image.fromarray(norm).resize((256,256))"
   ]
  }
 ],
 "metadata": {
  "language_info": {
   "name": "python"
  }
 },
 "nbformat": 4,
 "nbformat_minor": 5
}
