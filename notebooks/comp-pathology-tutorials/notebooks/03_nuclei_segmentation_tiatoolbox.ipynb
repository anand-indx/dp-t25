{
 "cells": [
  {
   "cell_type": "markdown",
   "id": "6ff86617",
   "metadata": {},
   "source": [
    "# Nuclei Segmentation with TIAToolbox (HoVer-Net)\n",
    "\n",
    "Run a pretrained nuclei segmentation model on a tissue patch."
   ]
  },
  {
   "cell_type": "code",
   "execution_count": null,
   "id": "4f29d127",
   "metadata": {},
   "outputs": [],
   "source": [
    "# Optional: install tiatoolbox\n",
    "import importlib\n",
    "if importlib.util.find_spec('tiatoolbox') is None:\n",
    "    get_ipython().system('pip -q install tiatoolbox')\n",
    "from tiatoolbox.models import SemanticSegmentor\n",
    "from tiatoolbox.data import fetch_remote_sample\n",
    "from PIL import Image\n",
    "import numpy as np\n",
    "# Get a small sample image\n",
    "sample = fetch_remote_sample('tcga_brca_tumor_001_patch')\n",
    "img = Image.open(sample['image'])\n",
    "model = SemanticSegmentor(backbone='hovernet_fast')\n",
    "pred = model.predict([np.array(img)])\n",
    "pred[0]['semantic_map'].shape"
   ]
  }
 ],
 "metadata": {
  "language_info": {
   "name": "python"
  }
 },
 "nbformat": 4,
 "nbformat_minor": 5
}
