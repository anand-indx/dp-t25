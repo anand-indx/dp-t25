{
 "cells": [
  {
   "cell_type": "markdown",
   "id": "561b6f3d",
   "metadata": {},
   "source": [
    "# Slide-level Classification with MIL (Intro)\n",
    "\n",
    "Multiple Instance Learning (MIL) aggregates patch features to predict slide-level labels. Here we outline a simple attention-based MIL pipeline with PyTorch."
   ]
  },
  {
   "cell_type": "code",
   "execution_count": null,
   "id": "db7c4a51",
   "metadata": {},
   "outputs": [],
   "source": [
    "# Toy example: attention MIL head over patch features\n",
    "import torch, torch.nn as nn, torch.nn.functional as F\n",
    "class AttnMIL(nn.Module):\n",
    "    def __init__(self, d_in=2048, d_attn=256, n_classes=2):\n",
    "        super().__init__()\n",
    "        self.attn = nn.Sequential(nn.Linear(d_in, d_attn), nn.Tanh(), nn.Linear(d_attn, 1))\n",
    "        self.clf = nn.Linear(d_in, n_classes)\n",
    "    def forward(self, feats):  # feats: [N, d_in]\n",
    "        a = self.attn(feats)            # [N,1]\n",
    "        w = torch.softmax(a, dim=0)      # attention weights\n",
    "        z = (w * feats).sum(dim=0)       # bag embedding\n",
    "        logits = self.clf(z)\n",
    "        return logits, w.squeeze(-1)\n",
    "# Demo with random features\n",
    "N, D = 64, 2048\n",
    "feats = torch.randn(N, D)\n",
    "model = AttnMIL(D)\n",
    "logits, weights = model(feats)\n",
    "logits, weights.shape"
   ]
  }
 ],
 "metadata": {
  "language_info": {
   "name": "python"
  }
 },
 "nbformat": 4,
 "nbformat_minor": 5
}
