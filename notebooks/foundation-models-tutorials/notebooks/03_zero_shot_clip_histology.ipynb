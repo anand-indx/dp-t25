{
 "cells": [
  {
   "cell_type": "markdown",
   "id": "8583a6bc",
   "metadata": {},
   "source": [
    "# Zero-shot Labeling with OpenCLIP\n",
    "\n",
    "Demonstrate zero-shot scoring of tissue patches using CLIP-like models. This is useful for rapid prototyping without labeled data."
   ]
  },
  {
   "cell_type": "code",
   "execution_count": null,
   "id": "5612f586",
   "metadata": {},
   "outputs": [],
   "source": [
    "# Optional install: open_clip_torch\n",
    "import importlib\n",
    "if importlib.util.find_spec('open_clip') is None:\n",
    "    get_ipython().system('pip -q install open_clip_torch')\n",
    "import torch, open_clip, torchvision.transforms as T\n",
    "from PIL import Image\n",
    "import io, requests, numpy as np\n",
    "device = 'cuda' if torch.cuda.is_available() else 'cpu'\n",
    "model, _, preprocess = open_clip.create_model_and_transforms('ViT-B-32', pretrained='laion2b_s34b_b79k', device=device)\n",
    "tokenizer = open_clip.get_tokenizer('ViT-B-32')\n",
    "# Load a sample image\n",
    "url = 'https://picsum.photos/seed/histo2/256'\n",
    "try:\n",
    "    img = Image.open(io.BytesIO(requests.get(url, timeout=5).content)).convert('RGB')\n",
    "except Exception:\n",
    "    img = Image.fromarray((np.random.rand(256,256,3)*255).astype('uint8'), 'RGB')\n",
    "image = preprocess(img).unsqueeze(0).to(device)\n",
    "texts = ['tumor tissue', 'normal epithelium', 'lymphocytes', 'stroma']\n",
    "text_tokens = tokenizer(texts).to(device)\n",
    "with torch.no_grad():\n",
    "    image_features = model.encode_image(image)\n",
    "    text_features = model.encode_text(text_tokens)\n",
    "    image_features /= image_features.norm(dim=-1, keepdim=True)\n",
    "    text_features /= text_features.norm(dim=-1, keepdim=True)\n",
    "    logits = (100.0 * image_features @ text_features.T).softmax(dim=-1).squeeze().cpu().numpy()\n",
    "for label, p in zip(texts, logits):\n",
    "    print(f'{label:>20}: {p:.3f}')"
   ]
  }
 ],
 "metadata": {
  "language_info": {
   "name": "python"
  }
 },
 "nbformat": 4,
 "nbformat_minor": 5
}
