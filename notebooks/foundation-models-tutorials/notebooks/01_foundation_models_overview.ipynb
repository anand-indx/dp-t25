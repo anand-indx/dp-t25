{
 "cells": [
  {
   "cell_type": "markdown",
   "id": "deafddb7",
   "metadata": {},
   "source": [
    "# Foundation Models in Digital Pathology\n",
    "\n",
    "Modern digital pathology is rapidly adopting foundation models (FMs): large, pre-trained image models (ResNet/ViT), vision-language models (CLIP), and promptable segmentation models (SAM). These enable zero-shot labeling, robust feature extraction, and downstream fine-tuning for slide-level tasks.\n",
    "\n",
    "## What you'll learn\n",
    "- When and how to use pre-trained CNNs/ViTs as feature extractors\n",
    "- Zero-shot classification with CLIP-like models for quick prototyping\n",
    "- Promptable segmentation with SAM for nuclei/tissue region initialization\n",
    "- How these pieces fit into a computational pathology pipeline\n",
    "\n",
    "## Roadmap in this track\n",
    "1. Feature extraction with `timm` (ResNet/ViT)\n",
    "2. Zero-shot histology concepts with CLIP\n",
    "3. Promptable segmentation with SAM (lightweight demo)\n",
    "\n",
    "We focus on practical, binder-friendly recipes with optional installs in each notebook."
   ]
  },
  {
   "cell_type": "markdown",
   "id": "1b51d347",
   "metadata": {},
   "source": [
    "## Prerequisites\n",
    "- Python, NumPy/Pandas, basic PyTorch familiarity recommended\n",
    "- Understanding of patches vs. whole-slide images (WSIs)\n",
    "- Optional GPU accelerates some demos, but CPU is fine for small patches"
   ]
  },
  {
   "cell_type": "code",
   "execution_count": null,
   "id": "03162995",
   "metadata": {},
   "outputs": [],
   "source": [
    "# Quick environment check (versions)\n",
    "import sys, platform\n",
    "import numpy as np\n",
    "try:\n",
    "    import torch, torchvision\n",
    "    print('Torch:', torch.__version__, 'CUDA:', torch.cuda.is_available())\n",
    "    print('Torchvision:', torchvision.__version__)\n",
    "except Exception as e:\n",
    "    print('PyTorch not found. Some notebooks will install it on the fly.')\n",
    "print('Python:', sys.version.split()[0], '| OS:', platform.platform())"
   ]
  }
 ],
 "metadata": {
  "language_info": {
   "name": "python"
  }
 },
 "nbformat": 4,
 "nbformat_minor": 5
}
