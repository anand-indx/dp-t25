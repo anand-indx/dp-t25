{
 "cells": [
  {
   "cell_type": "markdown",
   "id": "715f07b8",
   "metadata": {},
   "source": [
    "# Feature Extraction with timm (ResNet/ViT)\n",
    "\n",
    "Use `timm` to load a pre-trained CNN/ViT and extract patch-level features for downstream tasks (MIL, clustering, slide-level aggregation)."
   ]
  },
  {
   "cell_type": "code",
   "execution_count": null,
   "id": "bc52750e",
   "metadata": {},
   "outputs": [],
   "source": [
    "# Optional: install timm if missing (safe in Binder/Colab/local)\n",
    "import importlib, sys\n",
    "if importlib.util.find_spec('timm') is None:\n",
    "    get_ipython().system('pip -q install timm')\n",
    "import timm, torch\n",
    "print('timm', timm.__version__)"
   ]
  },
  {
   "cell_type": "code",
   "execution_count": null,
   "id": "cdd3f57e",
   "metadata": {},
   "outputs": [],
   "source": [
    "# Load a pre-trained backbone without the classifier head (features only)\n",
    "import torchvision.transforms as T\n",
    "from PIL import Image\n",
    "import numpy as np, io, os, requests\n",
    "model = timm.create_model('resnet50', pretrained=True, num_classes=0)\n",
    "model.eval()\n",
    "preprocess = T.Compose([T.Resize(256), T.CenterCrop(224), T.ToTensor(), T.Normalize([0.485,0.456,0.406],[0.229,0.224,0.225])])\n",
    "# Try to load a sample image; fallback to a synthetic patch if offline\n",
    "url = 'https://picsum.photos/seed/histo/256'\n",
    "try:\n",
    "    img = Image.open(io.BytesIO(requests.get(url, timeout=5).content)).convert('RGB')\n",
    "except Exception:\n",
    "    img = Image.fromarray((np.random.rand(256,256,3)*255).astype('uint8'), 'RGB')\n",
    "x = preprocess(img).unsqueeze(0)\n",
    "with torch.no_grad():\n",
    "    feats = model(x)\n",
    "feats = feats.squeeze().numpy()\n",
    "print('Feature shape:', feats.shape)"
   ]
  }
 ],
 "metadata": {
  "language_info": {
   "name": "python"
  }
 },
 "nbformat": 4,
 "nbformat_minor": 5
}
