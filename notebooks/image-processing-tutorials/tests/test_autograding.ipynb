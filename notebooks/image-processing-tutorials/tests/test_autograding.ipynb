{
 "cells": [
  {
   "cell_type": "markdown",
   "id": "8b5b1cbe",
   "metadata": {},
   "source": [
    "# Autograding Notebook\n",
    "\n",
    "This notebook is designed to automatically grade the user's progress through the image processing tutorials. It works by importing functions or loading data created in the other notebooks and running tests against them."
   ]
  },
  {
   "cell_type": "markdown",
   "id": "82b164d2",
   "metadata": {},
   "source": [
    "### Setup\n",
    "\n",
    "First, let's add the notebooks directory to our Python path so we can import them."
   ]
  },
  {
   "cell_type": "code",
   "execution_count": null,
   "id": "56f3f33c",
   "metadata": {},
   "outputs": [],
   "source": [
    "import sys\n",
    "import os\n",
    "import numpy as np\n",
    "# Add notebooks directory to path\n",
    "notebook_dir = os.path.abspath('../notebooks')\n",
    "if notebook_dir not in sys.path:\n",
    "    sys.path.append(notebook_dir)\n",
    "\n",
    "# We will use ipynb for importing notebooks as modules\n",
    "!pip install -q ipynb\n",
    "from ipynb.fs.full import *"
   ]
  },
  {
   "cell_type": "markdown",
   "id": "d564a121",
   "metadata": {},
   "source": [
    "## Test for Tutorial 1: Load and Visualize\n",
    "\n",
    "We will check if the user has successfully created a script that can load a tile and if that tile has the correct dimensions. We will import the first notebook and check the variables."
   ]
  },
  {
   "cell_type": "code",
   "execution_count": null,
   "id": "c33fef46",
   "metadata": {},
   "outputs": [],
   "source": [
    "try:\n",
    "    # Import the first tutorial notebook\n",
    "    from ipynb.fs.full import tutorial_01_load_and_visualize as t1\n",
    "    \n",
    "    # Check if the image array was created and has the correct shape\n",
    "    if hasattr(t1, 'image_as_array'):\n",
    "        shape = t1.image_as_array.shape\n",
    "        assert shape == (256, 256, 3), f\"Test 1 Failed: Incorrect shape {shape}\"\n",
    "        print(\"Test 1 Passed: Image loaded and has correct shape.\")\n",
    "    else:\n",
    "        print(\"Test 1 Failed: 'image_as_array' not found in the notebook. Did you run all cells?\")\n",
    "\n",
    "except ImportError:\n",
    "    print(\"Test 1 Failed: Could not import the notebook '01_load_and_visualize'.\")\n",
    "except Exception as e:\n",
    "    print(f\"An error occurred during Test 1: {e}\")"
   ]
  },
  {
   "cell_type": "markdown",
   "id": "35e8380e",
   "metadata": {},
   "source": [
    "## Test for Tutorial 2: Resizing and Grayscale\n",
    "\n",
    "We'll check the outputs from the second notebook."
   ]
  },
  {
   "cell_type": "code",
   "execution_count": null,
   "id": "2e010324",
   "metadata": {},
   "outputs": [],
   "source": [
    "try:\n",
    "    # Import the second tutorial notebook\n",
    "    from ipynb.fs.full import tutorial_02_resizing_and_grayscale as t2\n",
    "    \n",
    "    assert t2.resized_image.size == (64, 64), \"Test 2a Failed: Resized image has incorrect dimensions.\"\n",
    "    print(\"Test 2a Passed: Resized image has correct dimensions.\")\n",
    "    \n",
    "    assert t2.grayscale_image.mode == 'L', \"Test 2b Failed: Image not converted to grayscale.\"\n",
    "    print(\"Test 2b Passed: Image converted to grayscale.\")\n",
    "\n",
    "except ImportError:\n",
    "    print(\"Test 2 Failed: Could not import the notebook '02_resizing_and_grayscale'.\")\n",
    "except Exception as e:\n",
    "    print(f\"An error occurred during Test 2: {e}\")"
   ]
  },
  {
   "cell_type": "markdown",
   "id": "297214b6",
   "metadata": {},
   "source": [
    "## Test for Tutorial 3: Basic Augmentation\n",
    "\n",
    "We will test the augmentation function from the third notebook."
   ]
  },
  {
   "cell_type": "code",
   "execution_count": null,
   "id": "80fe2982",
   "metadata": {},
   "outputs": [],
   "source": [
    "try:\n",
    "    # Import the third tutorial notebook\n",
    "    from ipynb.fs.full import tutorial_03_basic_augmentation as t3\n",
    "    \n",
    "    # Test the augmentation function\n",
    "    augmented_image = t3.augment_image(t3.original_image)\n",
    "    assert t3.original_image.size == augmented_image.size, \"Test 3 Failed: Augmented image size does not match original.\"\n",
    "    print(\"Test 3 Passed: Augmentation function works as expected.\")\n",
    "\n",
    "except ImportError:\n",
    "    print(\"Test 3 Failed: Could not import the notebook '03_basic_augmentation'.\")\n",
    "except Exception as e:\n",
    "    print(f\"An error occurred during Test 3: {e}\")"
   ]
  },
  {
   "cell_type": "markdown",
   "id": "88ddc0a2",
   "metadata": {},
   "source": [
    "## Test for Tutorial 4: Color Normalization\n",
    "\n",
    "We will test the color normalization function."
   ]
  },
  {
   "cell_type": "code",
   "execution_count": null,
   "id": "9d6e2d07",
   "metadata": {},
   "outputs": [],
   "source": [
    "try:\n",
    "    # Import the fourth tutorial notebook\n",
    "    from ipynb.fs.full import tutorial_04_color_normalization as t4\n",
    "    \n",
    "    # Test the normalization function\n",
    "    normalized_image = t4.normalize_color(t4.source_image, t4.target_image)\n",
    "    \n",
    "    source_means = np.mean(np.array(t4.source_image), axis=(0,1))\n",
    "    target_means = np.mean(np.array(t4.target_image), axis=(0,1))\n",
    "    normalized_means = np.mean(np.array(normalized_image), axis=(0,1))\n",
    "\n",
    "    assert np.all(np.abs(normalized_means - target_means) < np.abs(source_means - target_means))\n",
    "    print(\"Test 4 Passed: Color normalization works as expected.\")\n",
    "\n",
    "except ImportError:\n",
    "    print(\"Test 4 Failed: Could not import the notebook '04_color_normalization'.\")\n",
    "except Exception as e:\n",
    "    print(f\"An error occurred during Test 4: {e}\")"
   ]
  }
 ],
 "metadata": {
  "language_info": {
   "name": "python"
  }
 },
 "nbformat": 4,
 "nbformat_minor": 5
}
