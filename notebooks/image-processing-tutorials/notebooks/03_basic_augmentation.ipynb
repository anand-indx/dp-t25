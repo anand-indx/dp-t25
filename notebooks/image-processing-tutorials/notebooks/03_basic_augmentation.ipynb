{
 "cells": [
  {
   "cell_type": "code",
   "execution_count": null,
   "id": "52171f57",
   "metadata": {},
   "outputs": [],
   "source": [
    "# Automatic Dataset Download for Augmentation Tutorial\n",
    "import os\n",
    "import requests\n",
    "from pathlib import Path\n",
    "from tqdm import tqdm\n",
    "\n",
    "def download_augmentation_samples():\n",
    "    \"\"\"Download sample images for augmentation demonstrations\"\"\"\n",
    "    data_dir = Path(\"../data\")\n",
    "    data_dir.mkdir(parents=True, exist_ok=True)\n",
    "    \n",
    "    # High-quality histopathology samples for augmentation\n",
    "    samples = {\n",
    "        'histology_normal.jpg': 'https://github.com/jamesdolezal/slideflow/raw/master/docs/source/_static/img/tile_3.jpg',\n",
    "        'histology_tumor.jpg': 'https://github.com/jamesdolezal/slideflow/raw/master/docs/source/_static/img/tile_4.jpg',\n",
    "        'tissue_sample.png': 'https://raw.githubusercontent.com/PathologyDataScience/TCGA-BRCA-WSI-Tiles/main/sample_tiles/normal_001.png'\n",
    "    }\n",
    "    \n",
    "    print(\"🔄 Preparing augmentation sample data...\")\n",
    "    downloaded_count = 0\n",
    "    \n",
    "    for filename, url in samples.items():\n",
    "        filepath = data_dir / filename\n",
    "        if not filepath.exists():\n",
    "            try:\n",
    "                print(f\"📥 Downloading {filename}...\")\n",
    "                response = requests.get(url, stream=True)\n",
    "                response.raise_for_status()\n",
    "                \n",
    "                total_size = int(response.headers.get('content-length', 0))\n",
    "                with open(filepath, 'wb') as f, tqdm(\n",
    "                    desc=filename,\n",
    "                    total=total_size,\n",
    "                    unit='iB',\n",
    "                    unit_scale=True,\n",
    "                    unit_divisor=1024,\n",
    "                ) as pbar:\n",
    "                    for chunk in response.iter_content(chunk_size=8192):\n",
    "                        if chunk:\n",
    "                            size = f.write(chunk)\n",
    "                            pbar.update(size)\n",
    "                \n",
    "                print(f\"✅ Successfully downloaded {filename}\")\n",
    "                downloaded_count += 1\n",
    "            except requests.RequestException as e:\n",
    "                print(f\"❌ Failed to download {filename}: {e}\")\n",
    "                # Create placeholder if download fails\n",
    "                try:\n",
    "                    import numpy as np\n",
    "                    from PIL import Image\n",
    "                    placeholder = np.random.randint(0, 255, (256, 256, 3), dtype=np.uint8)\n",
    "                    Image.fromarray(placeholder).save(filepath)\n",
    "                    print(f\"📝 Created placeholder for {filename}\")\n",
    "                except Exception as pe:\n",
    "                    print(f\"❌ Could not create placeholder: {pe}\")\n",
    "        else:\n",
    "            print(f\"✅ {filename} already available\")\n",
    "    \n",
    "    print(f\"🎯 Augmentation data ready! {downloaded_count} new downloads completed\")\n",
    "    return data_dir\n",
    "\n",
    "# Setup augmentation sample data\n",
    "augmentation_data_dir = download_augmentation_samples()\n",
    "print(f\"📁 Augmentation samples located at: {augmentation_data_dir.absolute()}\")"
   ]
  },
  {
   "cell_type": "markdown",
   "id": "bd374255",
   "metadata": {},
   "source": [
    "## Basic Image Augmentation\n",
    "\n",
    "Data augmentation is a technique to increase the diversity of your training set by applying random transformations to your images. This helps prevent overfitting.\n",
    "\n",
    "**Our Goals:**\n",
    "1.  Apply random horizontal flips.\n",
    "2.  Apply random rotations.\n",
    "3.  Combine multiple augmentations."
   ]
  },
  {
   "cell_type": "code",
   "execution_count": null,
   "id": "9cbd8d9e",
   "metadata": {},
   "outputs": [],
   "source": [
    "from PIL import Image\n",
    "import matplotlib.pyplot as plt\n",
    "import random\n",
    "\n",
    "# Load our sample tile\n",
    "tile_path = '../data/sample_tile.png'\n",
    "original_image = Image.open(tile_path)"
   ]
  },
  {
   "cell_type": "markdown",
   "id": "2d5bc14b",
   "metadata": {},
   "source": [
    "### 1. Horizontal Flip\n",
    "\n",
    "A horizontal flip is a common and effective augmentation."
   ]
  },
  {
   "cell_type": "code",
   "execution_count": null,
   "id": "3a1373bb",
   "metadata": {},
   "outputs": [],
   "source": [
    "flipped_image = original_image.transpose(Image.FLIP_LEFT_RIGHT)\n",
    "\n",
    "fig, axes = plt.subplots(1, 2, figsize=(8, 4))\n",
    "axes[0].imshow(original_image)\n",
    "axes[0].set_title('Original')\n",
    "axes[1].imshow(flipped_image)\n",
    "axes[1].set_title('Flipped')\n",
    "plt.show()"
   ]
  },
  {
   "cell_type": "markdown",
   "id": "02aa78ec",
   "metadata": {},
   "source": [
    "### 2. Rotation\n",
    "\n",
    "We can also rotate the image by a random angle."
   ]
  },
  {
   "cell_type": "code",
   "execution_count": null,
   "id": "b2222a28",
   "metadata": {},
   "outputs": [],
   "source": [
    "rotated_image = original_image.rotate(45)\n",
    "\n",
    "fig, axes = plt.subplots(1, 2, figsize=(8, 4))\n",
    "axes[0].imshow(original_image)\n",
    "axes[0].set_title('Original')\n",
    "axes[1].imshow(rotated_image)\n",
    "axes[1].set_title('Rotated 45 degrees')\n",
    "plt.show()"
   ]
  },
  {
   "cell_type": "markdown",
   "id": "2c7d9af3",
   "metadata": {},
   "source": [
    "## ✅ Final Check\n",
    "\n",
    "Let's create a simple augmentation function and test it."
   ]
  },
  {
   "cell_type": "code",
   "execution_count": null,
   "id": "3e6a3d30",
   "metadata": {},
   "outputs": [],
   "source": [
    "def augment_image(image):\n",
    "    \"\"\"Applies a random flip and rotation.\"\"\"\n",
    "    if random.random() > 0.5:\n",
    "        image = image.transpose(Image.FLIP_LEFT_RIGHT)\n",
    "    \n",
    "    angle = random.choice([0, 90, 180, 270])\n",
    "    image = image.rotate(angle)\n",
    "    return image\n",
    "\n",
    "augmented_image = augment_image(original_image)\n",
    "\n",
    "# This check is visual, as the output is random.\n",
    "# In a real test, you might check that the output image\n",
    "# has the same size as the input.\n",
    "assert original_image.size == augmented_image.size\n",
    "\n",
    "print(\"SUCCESS: Augmentation function created and tested.\")\n",
    "plt.imshow(augmented_image)\n",
    "plt.title('Randomly Augmented')\n",
    "plt.show()"
   ]
  }
 ],
 "metadata": {
  "language_info": {
   "name": "python"
  }
 },
 "nbformat": 4,
 "nbformat_minor": 5
}
