{
 "cells": [
  {
   "cell_type": "markdown",
   "id": "8b5b1cbe",
   "metadata": {},
   "source": [
    "# Autograding Notebook\n",
    "\n",
    "This notebook is designed to automatically grade the user's progress through the image processing tutorials. It works by importing functions or loading data created in the other notebooks and running tests against them."
   ]
  },
  {
   "cell_type": "markdown",
   "id": "82b164d2",
   "metadata": {},
   "source": [
    "### Setup\n",
    "\n",
    "First, let's add the notebooks directory to our Python path so we can import them."
   ]
  },
  {
   "cell_type": "code",
   "execution_count": null,
   "id": "56f3f33c",
   "metadata": {},
   "outputs": [],
   "source": [
    "import sys\n",
    "import os\n",
    "import numpy as np\n",
    "# Add current directory to path (notebooks are in the same directory now)\n",
    "notebook_dir = os.path.abspath('.')\n",
    "if notebook_dir not in sys.path:\n",
    "    sys.path.append(notebook_dir)\n",
    "\n",
    "# We will use ipynb for importing notebooks as modules\n",
    "!pip install -q ipynb\n",
    "from ipynb.fs.full import *"
   ]
  },
  {
   "cell_type": "markdown",
   "id": "d564a121",
   "metadata": {},
   "source": [
    "## Test for Tutorial 1: Load and Visualize\n",
    "\n",
    "We will check if the user has successfully created a script that can load a tile and if that tile has the correct dimensions. We will import the first notebook and check the variables."
   ]
  },
  {
   "cell_type": "code",
   "execution_count": null,
   "id": "c33fef46",
   "metadata": {},
   "outputs": [],
   "source": [
    "try:\n",
    "    # Import the first tutorial notebook using importlib\n",
    "    import importlib\n",
    "    from ipynb.fs.full import *\n",
    "    \n",
    "    # Try to get variables from the first notebook\n",
    "    try:\n",
    "        import ipynb.fs.full\n",
    "        module_01 = getattr(ipynb.fs.full, '_01_load_and_visualize', None)\n",
    "        if module_01 is None:\n",
    "            # Try alternative names\n",
    "            for attr_name in dir(ipynb.fs.full):\n",
    "                if 'load_and_visualize' in attr_name:\n",
    "                    module_01 = getattr(ipynb.fs.full, attr_name)\n",
    "                    break\n",
    "        \n",
    "        if module_01 and hasattr(module_01, 'image_as_array'):\n",
    "            shape = module_01.image_as_array.shape\n",
    "            assert shape == (256, 256, 3), f\"Test 1 Failed: Incorrect shape {shape}\"\n",
    "            print(\"Test 1 Passed: Image loaded and has correct shape.\")\n",
    "        else:\n",
    "            print(\"Test 1 Failed: 'image_as_array' not found. Please run the first notebook completely.\")\n",
    "    except Exception as e:\n",
    "        print(f\"Test 1 Info: {e}\")\n",
    "        print(\"Test 1 Note: Please ensure you have run all cells in the '01_load_and_visualize' notebook first.\")\n",
    "\n",
    "except ImportError as e:\n",
    "    print(f\"Test 1 Failed: Could not import notebook modules: {e}\")\n",
    "except Exception as e:\n",
    "    print(f\"An error occurred during Test 1: {e}\")"
   ]
  },
  {
   "cell_type": "markdown",
   "id": "35e8380e",
   "metadata": {},
   "source": [
    "## Test for Tutorial 2: Resizing and Grayscale\n",
    "\n",
    "We'll check the outputs from the second notebook."
   ]
  },
  {
   "cell_type": "code",
   "execution_count": null,
   "id": "2e010324",
   "metadata": {},
   "outputs": [],
   "source": [
    "try:\n",
    "    # Import the second tutorial notebook\n",
    "    module_02 = None\n",
    "    for attr_name in dir(ipynb.fs.full):\n",
    "        if 'resizing_and_grayscale' in attr_name:\n",
    "            module_02 = getattr(ipynb.fs.full, attr_name)\n",
    "            break\n",
    "    \n",
    "    if module_02:\n",
    "        assert hasattr(module_02, 'resized_image') and module_02.resized_image.size == (64, 64), \"Test 2a Failed: Resized image has incorrect dimensions.\"\n",
    "        print(\"Test 2a Passed: Resized image has correct dimensions.\")\n",
    "        \n",
    "        assert hasattr(module_02, 'grayscale_image') and module_02.grayscale_image.mode == 'L', \"Test 2b Failed: Image not converted to grayscale.\"\n",
    "        print(\"Test 2b Passed: Image converted to grayscale.\")\n",
    "    else:\n",
    "        print(\"Test 2 Failed: Please run the '02_resizing_and_grayscale' notebook completely first.\")\n",
    "\n",
    "except Exception as e:\n",
    "    print(f\"An error occurred during Test 2: {e}\")\n",
    "    print(\"Test 2 Note: Please ensure you have run all cells in the '02_resizing_and_grayscale' notebook first.\")"
   ]
  },
  {
   "cell_type": "markdown",
   "id": "297214b6",
   "metadata": {},
   "source": [
    "## Test for Tutorial 3: Basic Augmentation\n",
    "\n",
    "We will test the augmentation function from the third notebook."
   ]
  },
  {
   "cell_type": "code",
   "execution_count": null,
   "id": "80fe2982",
   "metadata": {},
   "outputs": [],
   "source": [
    "try:\n",
    "    # Import the third tutorial notebook\n",
    "    module_03 = None\n",
    "    for attr_name in dir(ipynb.fs.full):\n",
    "        if 'basic_augmentation' in attr_name:\n",
    "            module_03 = getattr(ipynb.fs.full, attr_name)\n",
    "            break\n",
    "    \n",
    "    if module_03 and hasattr(module_03, 'augment_image') and hasattr(module_03, 'original_image'):\n",
    "        # Test the augmentation function\n",
    "        augmented_image = module_03.augment_image(module_03.original_image)\n",
    "        assert module_03.original_image.size == augmented_image.size, \"Test 3 Failed: Augmented image size does not match original.\"\n",
    "        print(\"Test 3 Passed: Augmentation function works as expected.\")\n",
    "    else:\n",
    "        print(\"Test 3 Failed: Please run the '03_basic_augmentation' notebook completely first.\")\n",
    "\n",
    "except Exception as e:\n",
    "    print(f\"An error occurred during Test 3: {e}\")\n",
    "    print(\"Test 3 Note: Please ensure you have run all cells in the '03_basic_augmentation' notebook first.\")"
   ]
  },
  {
   "cell_type": "markdown",
   "id": "88ddc0a2",
   "metadata": {},
   "source": [
    "## Test for Tutorial 4: Color Normalization\n",
    "\n",
    "We will test the color normalization function."
   ]
  },
  {
   "cell_type": "code",
   "execution_count": null,
   "id": "9d6e2d07",
   "metadata": {},
   "outputs": [],
   "source": [
    "try:\n",
    "    # Import the fourth tutorial notebook\n",
    "    module_04 = None\n",
    "    for attr_name in dir(ipynb.fs.full):\n",
    "        if 'color_normalization' in attr_name:\n",
    "            module_04 = getattr(ipynb.fs.full, attr_name)\n",
    "            break\n",
    "    \n",
    "    if module_04 and hasattr(module_04, 'normalize_color') and hasattr(module_04, 'source_image') and hasattr(module_04, 'target_image'):\n",
    "        # Test the normalization function\n",
    "        normalized_image = module_04.normalize_color(module_04.source_image, module_04.target_image)\n",
    "        \n",
    "        source_means = np.mean(np.array(module_04.source_image), axis=(0,1))\n",
    "        target_means = np.mean(np.array(module_04.target_image), axis=(0,1))\n",
    "        normalized_means = np.mean(np.array(normalized_image), axis=(0,1))\n",
    "\n",
    "        assert np.all(np.abs(normalized_means - target_means) < np.abs(source_means - target_means))\n",
    "        print(\"Test 4 Passed: Color normalization works as expected.\")\n",
    "    else:\n",
    "        print(\"Test 4 Failed: Please run the '04_color_normalization' notebook completely first.\")\n",
    "\n",
    "except Exception as e:\n",
    "    print(f\"An error occurred during Test 4: {e}\")\n",
    "    print(\"Test 4 Note: Please ensure you have run all cells in the '04_color_normalization' notebook first.\")"
   ]
  }
 ],
 "metadata": {
  "language_info": {
   "name": "python"
  }
 },
 "nbformat": 4,
 "nbformat_minor": 5
}
