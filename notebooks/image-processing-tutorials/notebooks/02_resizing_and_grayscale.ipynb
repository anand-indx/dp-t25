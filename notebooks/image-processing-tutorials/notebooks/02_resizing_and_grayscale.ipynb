{
 "cells": [
  {
   "cell_type": "code",
   "execution_count": null,
   "id": "4192c87e",
   "metadata": {},
   "outputs": [],
   "source": [
    "# Use shared utils for persistent data dir and samples\n",
    "import sys, os\n",
    "from pathlib import Path\n",
    "try:\n",
    "    from shared import utils as u\n",
    "except ImportError:\n",
    "    repo_url = \"https://github.com/anand-indx/dp-t25.git\"; dest = \"/content/dp-t25\"\n",
    "    if 'google.colab' in sys.modules and not os.path.exists(dest):\n",
    "        import subprocess\n",
    "        subprocess.run(['git', 'clone', '--depth', '1', repo_url, dest], check=False)\n",
    "        sys.path.insert(0, dest)\n",
    "    else:\n",
    "        sys.path.insert(0, str(Path.cwd().parents[1]))\n",
    "    from shared import utils as u\n",
    "\n",
    "DATA_DIR = u.get_data_dir()\n",
    "u.ensure_image_processing_samples(DATA_DIR)\n",
    "print(f\"📁 Data directory: {DATA_DIR}\")"
   ]
  },
  {
   "cell_type": "markdown",
   "id": "d42edaed",
   "metadata": {},
   "source": [
    "## Image Resizing and Grayscale Conversion\n",
    "\n",
    "This notebook demonstrates how to resize images and convert them to grayscale, fundamental preprocessing steps in many computer vision pipelines.\n",
    "\n",
    "**Our Goals:**\n",
    "1.  Load an image tile.\n",
    "2.  Resize the image to different dimensions.\n",
    "3.  Convert the image to grayscale.\n",
    "4.  Visualize the results."
   ]
  },
  {
   "cell_type": "code",
   "execution_count": null,
   "id": "84dece08",
   "metadata": {},
   "outputs": [],
   "source": [
    "from PIL import Image\n",
    "import matplotlib.pyplot as plt\n",
    "import numpy as np\n",
    "import os\n",
    "\n",
    "# Load a generated tile or create one if missing\n",
    "from pathlib import Path\n",
    "# Use shared DATA_DIR from the setup cell\n",
    "try:\n",
    "    DATA_DIR\n",
    "except NameError:\n",
    "    from shared import utils as u\n",
    "    DATA_DIR = u.get_data_dir()\n",
    "    u.ensure_image_processing_samples(DATA_DIR)\n",
    "\n",
    "(DATA_DIR).mkdir(parents=True, exist_ok=True)\n",
    "\n",
    "# Ensure a sample tile exists under DATA_DIR\n",
    "if not (DATA_DIR / 'sample_tile.png').exists():\n",
    "    try:\n",
    "        # Prefer generated sample from shared utils if available\n",
    "        from shared import utils as u\n",
    "        u.ensure_image_processing_samples(DATA_DIR)\n",
    "    except Exception:\n",
    "        dummy_image = Image.new('RGB', (256, 256), color='red')\n",
    "        dummy_image.save(DATA_DIR / 'sample_tile.png')\n",
    "\n",
    "tile_path = DATA_DIR / 'sample_tile.png'\n",
    "original_image = Image.open(tile_path)\n",
    "\n",
    "plt.imshow(original_image)\n",
    "plt.title('Original Tile')\n",
    "plt.axis('off')\n",
    "plt.show()"
   ]
  },
  {
   "cell_type": "markdown",
   "id": "9d120f6f",
   "metadata": {},
   "source": [
    "### 1. Resizing an Image\n",
    "\n",
    "We can use Pillow's `resize()` method. It takes a tuple of the new width and height."
   ]
  },
  {
   "cell_type": "code",
   "execution_count": null,
   "id": "aea13e48",
   "metadata": {},
   "outputs": [],
   "source": [
    "resized_image = original_image.resize((64, 64))\n",
    "\n",
    "plt.imshow(resized_image)\n",
    "plt.title('Resized Tile (64x64)')\n",
    "plt.show()\n",
    "\n",
    "print(f\"Original size: {original_image.size}\")\n",
    "print(f\"Resized size: {resized_image.size}\")"
   ]
  },
  {
   "cell_type": "markdown",
   "id": "e41ccadb",
   "metadata": {},
   "source": [
    "### 2. Grayscale Conversion\n",
    "\n",
    "The `convert()` method with the 'L' mode will convert an RGB image to grayscale."
   ]
  },
  {
   "cell_type": "code",
   "execution_count": null,
   "id": "161dccc1",
   "metadata": {},
   "outputs": [],
   "source": [
    "grayscale_image = original_image.convert('L')\n",
    "\n",
    "plt.imshow(grayscale_image, cmap='gray')\n",
    "plt.title('Grayscale Tile')\n",
    "plt.show()\n",
    "\n",
    "# Verify the mode has changed\n",
    "print(f\"Original image mode: {original_image.mode}\")\n",
    "print(f\"Grayscale image mode: {grayscale_image.mode}\")"
   ]
  },
  {
   "cell_type": "markdown",
   "id": "3f35318a",
   "metadata": {},
   "source": [
    "## ✅ Final Check\n",
    "\n",
    "Let's verify the resized image has the correct dimensions and the grayscale image has the correct mode."
   ]
  },
  {
   "cell_type": "code",
   "execution_count": null,
   "id": "99b04e5e",
   "metadata": {},
   "outputs": [],
   "source": [
    "assert resized_image.size == (64, 64), \"Resized image has incorrect dimensions.\"\n",
    "assert grayscale_image.mode == 'L', \"Image was not converted to grayscale.\"\n",
    "\n",
    "print(\"SUCCESS: All checks passed.\")"
   ]
  }
 ],
 "metadata": {
  "kernelspec": {
   "display_name": ".venv",
   "language": "python",
   "name": "python3"
  },
  "language_info": {
   "name": "python",
   "version": "3.11.2"
  }
 },
 "nbformat": 4,
 "nbformat_minor": 5
}
