{
  "cells": [
    {
      "cell_type": "code",
      "execution_count": 1,
      "id": "4192c87e",
      "metadata": {
        "id": "4192c87e",
        "outputId": "6de6314d-8ef8-4def-ad2f-8c164b8ef854",
        "colab": {
          "base_uri": "https://localhost:8080/"
        }
      },
      "outputs": [
        {
          "output_type": "stream",
          "name": "stdout",
          "text": [
            "Mounted at /content/drive\n",
            "📦 Using Google Drive for data: /content/drive/MyDrive/dp-t25/data\n",
            "Drive already mounted at /content/drive; to attempt to forcibly remount, call drive.mount(\"/content/drive\", force_remount=True).\n",
            "📦 Using Google Drive for data: /content/drive/MyDrive/dp-t25/data\n",
            "✅ sample_patch_1.jpg available at /content/drive/MyDrive/dp-t25/data/sample_patch_1.jpg\n",
            "✅ sample_patch_2.jpg available at /content/drive/MyDrive/dp-t25/data/sample_patch_2.jpg\n",
            "✅ sample_tissue.png available at /content/drive/MyDrive/dp-t25/data/sample_tissue.png\n",
            "📁 Data directory: /content/drive/MyDrive/dp-t25/data\n"
          ]
        }
      ],
      "source": [
        "# Use shared utils for persistent data dir and samples\n",
        "import sys, os\n",
        "from pathlib import Path\n",
        "try:\n",
        "    from shared import utils as u\n",
        "except ImportError:\n",
        "    repo_url = \"https://github.com/anand-indx/dp-t25.git\"; dest = \"/content/dp-t25\"\n",
        "    if 'google.colab' in sys.modules and not os.path.exists(dest):\n",
        "        import subprocess\n",
        "        subprocess.run(['git', 'clone', '--depth', '1', repo_url, dest], check=False)\n",
        "        sys.path.insert(0, dest)\n",
        "    else:\n",
        "        sys.path.insert(0, str(Path.cwd().parents[1]))\n",
        "    from shared import utils as u\n",
        "\n",
        "DATA_DIR = u.get_data_dir()\n",
        "u.ensure_image_processing_samples(DATA_DIR)\n",
        "print(f\"📁 Data directory: {DATA_DIR}\")"
      ]
    },
    {
      "cell_type": "markdown",
      "id": "d42edaed",
      "metadata": {
        "id": "d42edaed"
      },
      "source": [
        "## Image Resizing and Grayscale Conversion\n",
        "\n",
        "This notebook demonstrates how to resize images and convert them to grayscale, fundamental preprocessing steps in many computer vision pipelines.\n",
        "\n",
        "**Our Goals:**\n",
        "1.  Load an image tile.\n",
        "2.  Resize the image to different dimensions.\n",
        "3.  Convert the image to grayscale.\n",
        "4.  Visualize the results."
      ]
    },
    {
      "cell_type": "code",
      "execution_count": 2,
      "id": "84dece08",
      "metadata": {
        "id": "84dece08",
        "outputId": "e82182d5-6514-4cb3-d2f6-aade4ce253d8",
        "colab": {
          "base_uri": "https://localhost:8080/",
          "height": 384
        }
      },
      "outputs": [
        {
          "output_type": "stream",
          "name": "stdout",
          "text": [
            "✅ sample_patch_1.jpg available at /content/drive/MyDrive/dp-t25/data/sample_patch_1.jpg\n",
            "✅ sample_patch_2.jpg available at /content/drive/MyDrive/dp-t25/data/sample_patch_2.jpg\n",
            "✅ sample_tissue.png available at /content/drive/MyDrive/dp-t25/data/sample_tissue.png\n"
          ]
        },
        {
          "output_type": "error",
          "ename": "FileNotFoundError",
          "evalue": "[Errno 2] No such file or directory: '/content/drive/MyDrive/dp-t25/data/sample_tile.png'",
          "traceback": [
            "\u001b[0;31m---------------------------------------------------------------------------\u001b[0m",
            "\u001b[0;31mFileNotFoundError\u001b[0m                         Traceback (most recent call last)",
            "\u001b[0;32m/tmp/ipython-input-4113144680.py\u001b[0m in \u001b[0;36m<cell line: 0>\u001b[0;34m()\u001b[0m\n\u001b[1;32m     27\u001b[0m \u001b[0;34m\u001b[0m\u001b[0m\n\u001b[1;32m     28\u001b[0m \u001b[0mtile_path\u001b[0m \u001b[0;34m=\u001b[0m \u001b[0mDATA_DIR\u001b[0m \u001b[0;34m/\u001b[0m \u001b[0;34m'sample_tile.png'\u001b[0m\u001b[0;34m\u001b[0m\u001b[0;34m\u001b[0m\u001b[0m\n\u001b[0;32m---> 29\u001b[0;31m \u001b[0moriginal_image\u001b[0m \u001b[0;34m=\u001b[0m \u001b[0mImage\u001b[0m\u001b[0;34m.\u001b[0m\u001b[0mopen\u001b[0m\u001b[0;34m(\u001b[0m\u001b[0mtile_path\u001b[0m\u001b[0;34m)\u001b[0m\u001b[0;34m\u001b[0m\u001b[0;34m\u001b[0m\u001b[0m\n\u001b[0m\u001b[1;32m     30\u001b[0m \u001b[0;34m\u001b[0m\u001b[0m\n\u001b[1;32m     31\u001b[0m \u001b[0mplt\u001b[0m\u001b[0;34m.\u001b[0m\u001b[0mimshow\u001b[0m\u001b[0;34m(\u001b[0m\u001b[0moriginal_image\u001b[0m\u001b[0;34m)\u001b[0m\u001b[0;34m\u001b[0m\u001b[0;34m\u001b[0m\u001b[0m\n",
            "\u001b[0;32m/usr/local/lib/python3.11/dist-packages/PIL/Image.py\u001b[0m in \u001b[0;36mopen\u001b[0;34m(fp, mode, formats)\u001b[0m\n\u001b[1;32m   3511\u001b[0m     \u001b[0;32mif\u001b[0m \u001b[0mis_path\u001b[0m\u001b[0;34m(\u001b[0m\u001b[0mfp\u001b[0m\u001b[0;34m)\u001b[0m\u001b[0;34m:\u001b[0m\u001b[0;34m\u001b[0m\u001b[0;34m\u001b[0m\u001b[0m\n\u001b[1;32m   3512\u001b[0m         \u001b[0mfilename\u001b[0m \u001b[0;34m=\u001b[0m \u001b[0mos\u001b[0m\u001b[0;34m.\u001b[0m\u001b[0mfspath\u001b[0m\u001b[0;34m(\u001b[0m\u001b[0mfp\u001b[0m\u001b[0;34m)\u001b[0m\u001b[0;34m\u001b[0m\u001b[0;34m\u001b[0m\u001b[0m\n\u001b[0;32m-> 3513\u001b[0;31m         \u001b[0mfp\u001b[0m \u001b[0;34m=\u001b[0m \u001b[0mbuiltins\u001b[0m\u001b[0;34m.\u001b[0m\u001b[0mopen\u001b[0m\u001b[0;34m(\u001b[0m\u001b[0mfilename\u001b[0m\u001b[0;34m,\u001b[0m \u001b[0;34m\"rb\"\u001b[0m\u001b[0;34m)\u001b[0m\u001b[0;34m\u001b[0m\u001b[0;34m\u001b[0m\u001b[0m\n\u001b[0m\u001b[1;32m   3514\u001b[0m         \u001b[0mexclusive_fp\u001b[0m \u001b[0;34m=\u001b[0m \u001b[0;32mTrue\u001b[0m\u001b[0;34m\u001b[0m\u001b[0;34m\u001b[0m\u001b[0m\n\u001b[1;32m   3515\u001b[0m     \u001b[0;32melse\u001b[0m\u001b[0;34m:\u001b[0m\u001b[0;34m\u001b[0m\u001b[0;34m\u001b[0m\u001b[0m\n",
            "\u001b[0;31mFileNotFoundError\u001b[0m: [Errno 2] No such file or directory: '/content/drive/MyDrive/dp-t25/data/sample_tile.png'"
          ]
        }
      ],
      "source": [
        "from PIL import Image\n",
        "import matplotlib.pyplot as plt\n",
        "import numpy as np\n",
        "import os\n",
        "\n",
        "# Load a generated tile or create one if missing\n",
        "from pathlib import Path\n",
        "# Use shared DATA_DIR from the setup cell\n",
        "try:\n",
        "    DATA_DIR\n",
        "except NameError:\n",
        "    from shared import utils as u\n",
        "    DATA_DIR = u.get_data_dir()\n",
        "    u.ensure_image_processing_samples(DATA_DIR)\n",
        "\n",
        "(DATA_DIR).mkdir(parents=True, exist_ok=True)\n",
        "\n",
        "# Ensure a sample tile exists under DATA_DIR\n",
        "if not (DATA_DIR / 'sample_tile.png').exists():\n",
        "    try:\n",
        "        # Prefer generated sample from shared utils if available\n",
        "        from shared import utils as u\n",
        "        u.ensure_image_processing_samples(DATA_DIR)\n",
        "    except Exception:\n",
        "        dummy_image = Image.new('RGB', (256, 256), color='red')\n",
        "        dummy_image.save(DATA_DIR / 'ssample_patch_1.jpg')\n",
        "\n",
        "tile_path = DATA_DIR / 'sample_tile.png'\n",
        "original_image = Image.open(tile_path)\n",
        "\n",
        "plt.imshow(original_image)\n",
        "plt.title('Original Tile')\n",
        "plt.axis('off')\n",
        "plt.show()"
      ]
    },
    {
      "cell_type": "markdown",
      "id": "9d120f6f",
      "metadata": {
        "id": "9d120f6f"
      },
      "source": [
        "### 1. Resizing an Image\n",
        "\n",
        "We can use Pillow's `resize()` method. It takes a tuple of the new width and height."
      ]
    },
    {
      "cell_type": "code",
      "execution_count": null,
      "id": "aea13e48",
      "metadata": {
        "id": "aea13e48"
      },
      "outputs": [],
      "source": [
        "resized_image = original_image.resize((64, 64))\n",
        "\n",
        "plt.imshow(resized_image)\n",
        "plt.title('Resized Tile (64x64)')\n",
        "plt.show()\n",
        "\n",
        "print(f\"Original size: {original_image.size}\")\n",
        "print(f\"Resized size: {resized_image.size}\")"
      ]
    },
    {
      "cell_type": "markdown",
      "id": "e41ccadb",
      "metadata": {
        "id": "e41ccadb"
      },
      "source": [
        "### 2. Grayscale Conversion\n",
        "\n",
        "The `convert()` method with the 'L' mode will convert an RGB image to grayscale."
      ]
    },
    {
      "cell_type": "code",
      "execution_count": null,
      "id": "161dccc1",
      "metadata": {
        "id": "161dccc1"
      },
      "outputs": [],
      "source": [
        "grayscale_image = original_image.convert('L')\n",
        "\n",
        "plt.imshow(grayscale_image, cmap='gray')\n",
        "plt.title('Grayscale Tile')\n",
        "plt.show()\n",
        "\n",
        "# Verify the mode has changed\n",
        "print(f\"Original image mode: {original_image.mode}\")\n",
        "print(f\"Grayscale image mode: {grayscale_image.mode}\")"
      ]
    },
    {
      "cell_type": "markdown",
      "id": "3f35318a",
      "metadata": {
        "id": "3f35318a"
      },
      "source": [
        "## ✅ Final Check\n",
        "\n",
        "Let's verify the resized image has the correct dimensions and the grayscale image has the correct mode."
      ]
    },
    {
      "cell_type": "code",
      "execution_count": null,
      "id": "99b04e5e",
      "metadata": {
        "id": "99b04e5e"
      },
      "outputs": [],
      "source": [
        "assert resized_image.size == (64, 64), \"Resized image has incorrect dimensions.\"\n",
        "assert grayscale_image.mode == 'L', \"Image was not converted to grayscale.\"\n",
        "\n",
        "print(\"SUCCESS: All checks passed.\")"
      ]
    }
  ],
  "metadata": {
    "kernelspec": {
      "display_name": ".venv",
      "language": "python",
      "name": "python3"
    },
    "language_info": {
      "name": "python",
      "version": "3.11.2"
    },
    "colab": {
      "provenance": []
    }
  },
  "nbformat": 4,
  "nbformat_minor": 5
}