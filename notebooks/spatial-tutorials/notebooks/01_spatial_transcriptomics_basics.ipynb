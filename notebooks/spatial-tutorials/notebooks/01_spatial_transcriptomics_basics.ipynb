{
 "cells": [
  {
   "cell_type": "markdown",
   "id": "ce5b9354",
   "metadata": {},
   "source": [
    "# Spatial Transcriptomics: Basics\n",
    "\n",
    "Load spot coordinates and visualize gene expression overlays. This toy example uses synthetic data and can be swapped with real Visium outputs."
   ]
  },
  {
   "cell_type": "code",
   "execution_count": null,
   "id": "d73ef238",
   "metadata": {},
   "outputs": [],
   "source": [
    "import numpy as np, pandas as pd, matplotlib.pyplot as plt\n",
    "np.random.seed(0)\n",
    "# Synthetic grid of spots with (x,y) and a gene expression value\n",
    "n = 400\n",
    "x = np.random.uniform(0,1,n); y = np.random.uniform(0,1,n); g = np.random.gamma(2.0, 1.0, n)\n",
    "df = pd.DataFrame({'x':x, 'y':y, 'geneX':g})\n",
    "plt.figure(figsize=(5,5)); plt.scatter(df.x, df.y, c=df.geneX, cmap='viridis', s=20); plt.colorbar(label='geneX'); plt.gca().invert_yaxis(); plt.title('Spatial gene expression (toy)'); plt.show()"
   ]
  }
 ],
 "metadata": {
  "language_info": {
   "name": "python"
  }
 },
 "nbformat": 4,
 "nbformat_minor": 5
}
